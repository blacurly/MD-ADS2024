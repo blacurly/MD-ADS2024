{
  "nbformat": 4,
  "nbformat_minor": 0,
  "metadata": {
    "colab": {
      "provenance": [],
      "authorship_tag": "ABX9TyPFOmD7JcmHigDipBSV12C/",
      "include_colab_link": true
    },
    "kernelspec": {
      "name": "python3",
      "display_name": "Python 3"
    },
    "language_info": {
      "name": "python"
    }
  },
  "cells": [
    {
      "cell_type": "markdown",
      "metadata": {
        "id": "view-in-github",
        "colab_type": "text"
      },
      "source": [
        "<a href=\"https://colab.research.google.com/github/blacurly/MD-ADS2024/blob/main/submission.ipynb\" target=\"_parent\"><img src=\"https://colab.research.google.com/assets/colab-badge.svg\" alt=\"Open In Colab\"/></a>"
      ]
    },
    {
      "cell_type": "code",
      "execution_count": 1,
      "metadata": {
        "colab": {
          "base_uri": "https://localhost:8080/"
        },
        "id": "8QR_lhsKbVYU",
        "outputId": "51755d3c-784c-4bec-ac02-97ff7859dc9a"
      },
      "outputs": [
        {
          "output_type": "stream",
          "name": "stdout",
          "text": [
            "24\n",
            "0\n"
          ]
        }
      ],
      "source": [
        "def multiply_list(numbers_str):\n",
        "    # Memecah string menjadi daftar bilangan bulat\n",
        "    numbers = list(map(int, numbers_str.split()))\n",
        "\n",
        "    # Jika daftarnya kosong, kembalikan 0\n",
        "    if not numbers:\n",
        "        return 0\n",
        "\n",
        "    # Mengalikan semua bilangan dalam daftar\n",
        "    result = 1\n",
        "    for num in numbers:\n",
        "        result *= num\n",
        "\n",
        "    return result\n",
        "\n",
        "# Contoh penggunaan\n",
        "print(multiply_list(\"1 2 3 4\"))  # Output: 24\n",
        "print(multiply_list(\"\"))         # Output: 0"
      ]
    },
    {
      "cell_type": "code",
      "source": [],
      "metadata": {
        "id": "r_fpMMUsbkkw"
      },
      "execution_count": null,
      "outputs": []
    }
  ]
}